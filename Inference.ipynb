{
 "cells": [
  {
   "cell_type": "code",
   "execution_count": 1,
   "metadata": {},
   "outputs": [
    {
     "name": "stderr",
     "output_type": "stream",
     "text": [
      "2025-02-04 14:46:15.679028: I external/local_xla/xla/tsl/cuda/cudart_stub.cc:32] Could not find cuda drivers on your machine, GPU will not be used.\n",
      "2025-02-04 14:46:16.226147: I external/local_xla/xla/tsl/cuda/cudart_stub.cc:32] Could not find cuda drivers on your machine, GPU will not be used.\n",
      "2025-02-04 14:46:16.567154: E external/local_xla/xla/stream_executor/cuda/cuda_fft.cc:477] Unable to register cuFFT factory: Attempting to register factory for plugin cuFFT when one has already been registered\n",
      "WARNING: All log messages before absl::InitializeLog() is called are written to STDERR\n",
      "E0000 00:00:1738655176.907900     953 cuda_dnn.cc:8310] Unable to register cuDNN factory: Attempting to register factory for plugin cuDNN when one has already been registered\n",
      "E0000 00:00:1738655177.010752     953 cuda_blas.cc:1418] Unable to register cuBLAS factory: Attempting to register factory for plugin cuBLAS when one has already been registered\n",
      "2025-02-04 14:46:17.736138: I tensorflow/core/platform/cpu_feature_guard.cc:210] This TensorFlow binary is optimized to use available CPU instructions in performance-critical operations.\n",
      "To enable the following instructions: AVX2 FMA, in other operations, rebuild TensorFlow with the appropriate compiler flags.\n"
     ]
    }
   ],
   "source": [
    "import tensorflow as tf\n",
    "import numpy as np\n",
    "import pickle\n"
   ]
  },
  {
   "cell_type": "code",
   "execution_count": 2,
   "metadata": {},
   "outputs": [
    {
     "name": "stderr",
     "output_type": "stream",
     "text": [
      "W0000 00:00:1738655189.257252     953 gpu_device.cc:2344] Cannot dlopen some GPU libraries. Please make sure the missing libraries mentioned above are installed properly if you would like to use GPU. Follow the guide at https://www.tensorflow.org/install/gpu for how to download and setup the required libraries for your platform.\n",
      "Skipping registering GPU devices...\n",
      "/home/dzaki/miniconda3/envs/deeplearn/lib/python3.9/site-packages/keras/src/saving/saving_lib.py:757: UserWarning: Skipping variable loading for optimizer 'rmsprop', because it has 18 variables whereas the saved optimizer has 34 variables. \n",
      "  saveable.load_own_variables(weights_store.get(inner_path))\n"
     ]
    }
   ],
   "source": [
    "model = tf.keras.models.load_model(\"model_lstm_2.keras\")"
   ]
  },
  {
   "cell_type": "code",
   "execution_count": 3,
   "metadata": {},
   "outputs": [
    {
     "name": "stdout",
     "output_type": "stream",
     "text": [
      "\u001b[1m1/1\u001b[0m \u001b[32m━━━━━━━━━━━━━━━━━━━━\u001b[0m\u001b[37m\u001b[0m \u001b[1m1s\u001b[0m 1s/step\n",
      "Prediksi Sentimen: Positive Review (1)\n"
     ]
    }
   ],
   "source": [
    "text_input = [\"great game overall but lacks character development\"]\n",
    "text_tensor = tf.convert_to_tensor(text_input, dtype=tf.string)\n",
    "\n",
    "prediction = model.predict(text_tensor)\n",
    "result = np.argmax(prediction[0]) \n",
    "if result == 0:\n",
    "    print(f\"Prediksi Sentimen: Negative Review (0)\")\n",
    "else:\n",
    "    print(f\"Prediksi Sentimen: Positive Review (1)\")"
   ]
  },
  {
   "cell_type": "code",
   "execution_count": 4,
   "metadata": {},
   "outputs": [
    {
     "name": "stdout",
     "output_type": "stream",
     "text": [
      "\u001b[1m1/1\u001b[0m \u001b[32m━━━━━━━━━━━━━━━━━━━━\u001b[0m\u001b[37m\u001b[0m \u001b[1m0s\u001b[0m 71ms/step\n",
      "Prediksi Sentimen: Negative Review (0)\n"
     ]
    }
   ],
   "source": [
    "text_input = [\"piece of shit game. alot of bugs and cheaters\"]\n",
    "text_tensor = tf.convert_to_tensor(text_input, dtype=tf.string)\n",
    "\n",
    "prediction = model.predict(text_tensor)\n",
    "result = np.argmax(prediction[0]) \n",
    "if result == 0:\n",
    "    print(f\"Prediksi Sentimen: Negative Review (0)\")\n",
    "else:\n",
    "    print(f\"Prediksi Sentimen: Positive Review (1)\")"
   ]
  },
  {
   "cell_type": "code",
   "execution_count": 5,
   "metadata": {},
   "outputs": [
    {
     "name": "stdout",
     "output_type": "stream",
     "text": [
      "\u001b[1m1/1\u001b[0m \u001b[32m━━━━━━━━━━━━━━━━━━━━\u001b[0m\u001b[37m\u001b[0m \u001b[1m0s\u001b[0m 76ms/step\n",
      "Prediksi Sentimen: Positive Review (1)\n"
     ]
    }
   ],
   "source": [
    "text_input = [\"god dayumm\"]\n",
    "text_tensor = tf.convert_to_tensor(text_input, dtype=tf.string)\n",
    "\n",
    "prediction = model.predict(text_tensor)\n",
    "result = np.argmax(prediction[0]) \n",
    "if result == 0:\n",
    "    print(f\"Prediksi Sentimen: Negative Review (0)\")\n",
    "else:\n",
    "    print(f\"Prediksi Sentimen: Positive Review (1)\")"
   ]
  },
  {
   "cell_type": "code",
   "execution_count": 6,
   "metadata": {},
   "outputs": [
    {
     "name": "stdout",
     "output_type": "stream",
     "text": [
      "\u001b[1m1/1\u001b[0m \u001b[32m━━━━━━━━━━━━━━━━━━━━\u001b[0m\u001b[37m\u001b[0m \u001b[1m0s\u001b[0m 70ms/step\n",
      "Prediksi Sentimen: Negative Review (0)\n"
     ]
    }
   ],
   "source": [
    "text_input = [\"it's so bad, my grandma comeback to life just to turn it off\"]\n",
    "text_tensor = tf.convert_to_tensor(text_input, dtype=tf.string)\n",
    "\n",
    "prediction = model.predict(text_tensor)\n",
    "result = np.argmax(prediction[0]) \n",
    "if result == 0:\n",
    "    print(f\"Prediksi Sentimen: Negative Review (0)\")\n",
    "else:\n",
    "    print(f\"Prediksi Sentimen: Positive Review (1)\")"
   ]
  }
 ],
 "metadata": {
  "kernelspec": {
   "display_name": "deeplearn",
   "language": "python",
   "name": "python3"
  },
  "language_info": {
   "codemirror_mode": {
    "name": "ipython",
    "version": 3
   },
   "file_extension": ".py",
   "mimetype": "text/x-python",
   "name": "python",
   "nbconvert_exporter": "python",
   "pygments_lexer": "ipython3",
   "version": "3.9.21"
  }
 },
 "nbformat": 4,
 "nbformat_minor": 2
}
